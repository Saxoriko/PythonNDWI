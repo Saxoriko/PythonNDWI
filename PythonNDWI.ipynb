{
 "metadata": {
  "name": "",
  "signature": "sha256:d0d950136636eea8167be9d9e7b0049cfb2fcd35b5239e58b134b40ecd2b2b90"
 },
 "nbformat": 3,
 "nbformat_minor": 0,
 "worksheets": [
  {
   "cells": [
    {
     "cell_type": "code",
     "collapsed": false,
     "input": [],
     "language": "python",
     "metadata": {},
     "outputs": []
    }
   ],
   "metadata": {}
  }
 ]
}