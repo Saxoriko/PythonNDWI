{
 "metadata": {
  "name": "",
  "signature": "sha256:a9838ea5e744d31d71e1cc1b4903ebebdb8e6fe46d5d1acbeee071905d0a9d27"
 },
 "nbformat": 3,
 "nbformat_minor": 0,
 "worksheets": [
  {
   "cells": [
    {
     "cell_type": "heading",
     "level": 1,
     "metadata": {},
     "source": [
      "PythonNDWI"
     ]
    },
    {
     "cell_type": "heading",
     "level": 2,
     "metadata": {},
     "source": [
      "Use python to derive NDWI from band 4 and band 5"
     ]
    },
    {
     "cell_type": "markdown",
     "metadata": {},
     "source": [
      "Import modules and change working directory"
     ]
    },
    {
     "cell_type": "code",
     "collapsed": false,
     "input": [
      "from osgeo import gdal\n",
      "from osgeo.gdalconst import GA_ReadOnly, GDT_Float32\n",
      "import numpy as np\n",
      "\n",
      "import os, sys\n",
      "\n",
      "os.chdir(\"/home/user/git/PythonNDWI\")"
     ],
     "language": "python",
     "metadata": {},
     "outputs": [],
     "prompt_number": 2
    },
    {
     "cell_type": "markdown",
     "metadata": {},
     "source": [
      "Define band 4 and 5"
     ]
    },
    {
     "cell_type": "code",
     "collapsed": false,
     "input": [
      "band4 = \"/home/user/Downloads/pythonNDWI/LC81980242014260LGN00_sr_band4.tif\"\n",
      "band5 = \"/home/user/Downloads/pythonNDWI/LC81980242014260LGN00_sr_band5.tif\""
     ],
     "language": "python",
     "metadata": {},
     "outputs": [],
     "prompt_number": 3
    },
    {
     "cell_type": "markdown",
     "metadata": {},
     "source": [
      "Define function"
     ]
    },
    {
     "cell_type": "code",
     "collapsed": false,
     "input": [
      "def getNDWI(band4, band5):\n",
      "    \n",
      "    band4gdal = gdal.Open(band4, GA_ReadOnly)\n",
      "    band5gdal = gdal.Open(band5, GA_ReadOnly)\n",
      "     \n",
      "    geotransform = band4gdal.GetGeoTransform()\n",
      "    \n",
      "    # create arrays   \n",
      "    band4Arr = band4gdal.ReadAsArray(0,0,band4gdal.RasterXSize, band4gdal.RasterYSize)\n",
      "    band5Arr = band5gdal.ReadAsArray(0,0,band5gdal.RasterXSize, band5gdal.RasterYSize)\n",
      "     \n",
      "    # set the data type\n",
      "    band4Arr=band4Arr.astype(np.float32)\n",
      "    band5Arr=band5Arr.astype(np.float32)\n",
      "    \n",
      "    # Derive the NDVI\n",
      "    mask = np.greater(band5Arr+band4Arr,0)\n",
      "    \n",
      "    # set np.errstate to avoid warning of invalid values (i.e. NaN values) in the divide \n",
      "    \n",
      "    with np.errstate(invalid='ignore'):\n",
      "        # NDWI = band 4 - band 5 / band 4 + band 5    \n",
      "        ndwi = np.choose(mask,(-99,(band4Arr-band5Arr)/(band4Arr+band5Arr)))\n",
      "    \n",
      "    # Write the result to disk\n",
      "    driver = gdal.GetDriverByName('GTiff')\n",
      "    if not os.path.exists(\"./data\"):\n",
      "        os.mkdir(\"./data\")\n",
      "    outDataSet=driver.Create('./data/ndwi.tif', band4gdal.RasterXSize, band4gdal.RasterYSize, 1, GDT_Float32)\n",
      "    outBand = outDataSet.GetRasterBand(1)\n",
      "    outBand.WriteArray(ndwi,0,0)\n",
      "    outBand.SetNoDataValue(-99)\n",
      "    \n",
      "    # set the projection and extent information of the dataset\n",
      "    outDataSet.SetProjection(band4gdal.GetProjection())\n",
      "    outDataSet.SetGeoTransform(band4gdal.GetGeoTransform())\n",
      "    \n",
      "    \n",
      "    # Finally let's save it... or like in the OGR example flush it\n",
      "    outBand.FlushCache()\n",
      "    outDataSet.FlushCache()\n",
      "       \n",
      "    # In shell (execute before calling the shell script)\n",
      "    #cd /home/user/git/PythonNDWI\n",
      "    #chmod +x reproject.sh\n",
      "    \n",
      "    # calls shell script\n",
      "    import subprocess\n",
      "    subprocess.call(['./reproject.sh'])\n",
      "    \n",
      "    "
     ],
     "language": "python",
     "metadata": {},
     "outputs": [],
     "prompt_number": 8
    },
    {
     "cell_type": "markdown",
     "metadata": {},
     "source": [
      "Execute function"
     ]
    },
    {
     "cell_type": "code",
     "collapsed": false,
     "input": [
      "getNDWI(band4, band5)"
     ],
     "language": "python",
     "metadata": {},
     "outputs": [
      {
       "output_type": "stream",
       "stream": "stderr",
       "text": [
        "-c:23: RuntimeWarning: divide by zero encountered in divide\n"
       ]
      }
     ],
     "prompt_number": 9
    },
    {
     "cell_type": "heading",
     "level": 3,
     "metadata": {},
     "source": [
      "reproject.sh"
     ]
    },
    {
     "cell_type": "raw",
     "metadata": {},
     "source": [
      "#!/bin/bash\n",
      "pwd\n",
      "gdaltransform -s_srs EPSG:32631 -t_srs EPSG:4326\n",
      "\n",
      "# Let's check what the result is\n",
      "gdalinfo ./data/ndwi_ll.tif"
     ]
    },
    {
     "cell_type": "code",
     "collapsed": false,
     "input": [],
     "language": "python",
     "metadata": {},
     "outputs": []
    }
   ],
   "metadata": {}
  }
 ]
}